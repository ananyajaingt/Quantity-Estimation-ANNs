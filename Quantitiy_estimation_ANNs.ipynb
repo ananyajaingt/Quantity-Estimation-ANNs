{
  "nbformat": 4,
  "nbformat_minor": 0,
  "metadata": {
    "colab": {
      "provenance": []
    },
    "kernelspec": {
      "name": "python3",
      "display_name": "Python 3"
    },
    "language_info": {
      "name": "python"
    }
  },
  "cells": [
    {
      "cell_type": "markdown",
      "source": [
        "**Preliminary ANN for quantity estimation**\n",
        "\n",
        "Author - Ananya Jain (Computation Cognitive Neuroscience Lab)"
      ],
      "metadata": {
        "id": "y_I1dFLdQxHA"
      }
    },
    {
      "cell_type": "code",
      "execution_count": null,
      "metadata": {
        "id": "ksdVJozFPmu8"
      },
      "outputs": [],
      "source": [
        "pip install tensorflow"
      ]
    },
    {
      "cell_type": "markdown",
      "source": [
        "Task - **Dots estimation**\n",
        "1. To define a shallow CNN (with 3-5 layers) where the last layer is a single unit.\n",
        "2. Create stimuli between 50 and 200 black dots on a white background.\n",
        "3. Error = sqared difference between the networks guess and that true number of dots\n"
      ],
      "metadata": {
        "id": "k1nY16AZP9lh"
      }
    },
    {
      "cell_type": "code",
      "source": [
        "import numpy as np\n",
        "import matplotlib.pyplot as plt\n",
        "from tensorflow.keras.utils import to_categorical\n",
        "from tensorflow.keras.models import Sequential\n",
        "from tensorflow.keras.callbacks import EarlyStopping\n",
        "from tensorflow.keras.layers import Conv2D, MaxPooling2D, Flatten, Dense, Dropout, BatchNormalization\n",
        "from sklearn.model_selection import train_test_split\n",
        "from tensorflow.keras.regularizers import l2\n",
        "\n",
        "def generate_data(num_samples, img_size=64, min_dots=50, max_dots=200):\n",
        "    # numpy is used for array manipulation\n",
        "    # generate X with num_samples elements each of size (img_size * img_size). Instantiates this to zero\n",
        "    # generate Y with num_samples elements each of size 1 and isntantiate them to zero.\n",
        "    X = np.zeros((num_samples, img_size, img_size))\n",
        "    Y = np.zeros((num_samples, 1))\n",
        "\n",
        "    for i in range(num_samples):\n",
        "\n",
        "        # randomly generating number of dots between 50 and 201 exclusive\n",
        "        num_dots = np.random.randint(min_dots, max_dots + 1)\n",
        "        Y[i] = num_dots\n",
        "\n",
        "        for _ in range(num_dots):\n",
        "            x, y = np.random.randint(0, img_size, 2)\n",
        "            X[i, x, y] = 1\n",
        "\n",
        "    return X, Y\n",
        "\n",
        "# Generate data set for the CNN\n",
        "X, Y = generate_data(1000)\n",
        "\n",
        "# Visualize an example using matplotlib\n",
        "plt.imshow(X[0], cmap='gray')\n",
        "plt.title(f'Number of Dots: {int(Y[0])}')\n",
        "plt.show()"
      ],
      "metadata": {
        "colab": {
          "base_uri": "https://localhost:8080/",
          "height": 452
        },
        "id": "z2X7N3kUP8TS",
        "outputId": "cde12d77-1208-42c5-bb1d-5e57dfa3e85f"
      },
      "execution_count": 24,
      "outputs": [
        {
          "output_type": "display_data",
          "data": {
            "text/plain": [
              "<Figure size 640x480 with 1 Axes>"
            ],
            "image/png": "[encoded data removed]"
          },
          "metadata": {}
        }
      ]
    },
    {
      "cell_type": "markdown",
      "source": [
        "Now we need to split the data that was generated into training and validation sets\n",
        "* Normalize the data\n",
        "* reshape X into a **4-dimensional space** because this is the format that neural networks in Tensorflow expect input\n",
        "* first value is number of samples, the second and third are the dimensions of the image, and fourth indicates greyscale\n",
        "* dividing by 255 helps **scale the pixel values** to speed up the training process.\n",
        "* Neural networks (especially gradient descent-based optimizations) work better on input on a smaller scale\n",
        "* we then split the data into train and validation sets to be fed into the network"
      ],
      "metadata": {
        "id": "rbwknwJ3To2B"
      }
    },
    {
      "cell_type": "code",
      "source": [
        "\n",
        "X = X.reshape(-1, 64, 64, 1) / 255.0\n",
        "\n",
        "# Split the data\n",
        "X_train, X_val, Y_train, Y_val = train_test_split(X, Y, test_size=0.2, random_state=42)"
      ],
      "metadata": {
        "id": "NMqKRcIgTwu9"
      },
      "execution_count": 25,
      "outputs": []
    },
    {
      "cell_type": "markdown",
      "source": [
        "Building a **shallow Convolutional Neural Network** model using Keras.\n",
        "\n",
        "\n",
        "\n",
        "* sequential() arranges the layers of the neural network in a sequence, where the layer recieves information only from the previous layers.\n",
        "* first convolutional layer takes in **32 kernels** for feature extraction, where each kernel is 3x3 pixels.\n",
        "* Patterns could be complex so our model relies on activation = 'relu' which is the **Rectified Linear unit activation** to introduce non-linearity into our model\n",
        "* first pooling layer -this reduces the spatial dimensions of the previous layer from 3x3 to 2x2.\n",
        "* second convulational layer - this has **64 kernels**, to learn more complex patterns\n",
        "* second pooling layer also reduces the spatial dimensions\n",
        "* Flattening layer - flattens the output of the pooling layer into a 1D array to be fed into the dense layer\n",
        "* first dense layer - this layer has 64 neurons and performs further processing on the flattened input\n",
        "* output layer - this returns a single neuron. Since we are doing an **regression task for estimation**, the output is only in the form of one neuron to provide the estimated number of dots.\n",
        "\n",
        "The next step is to **compile the model**\n",
        "\n",
        "* we compile the model and make it ready for training.\n",
        "* Use the **stochastic gradient descent** optimization algorithm Adam since it needs little manual tuning of the learning rate. Stochastic gradient descent is an algorithm that is used to minimize some function, in this case it is the loss function. In a stochastic model the gradient of loss function is calculated primarily over a small suset of the data. This tends tohave higher convergence.\n",
        "* the loss/error is the **mean squared error**. It calculates the average of the squared differnces between the predicted values and the actual values to measure the quality of the model's prediction.\n"
      ],
      "metadata": {
        "id": "Khu6XVEdVn73"
      }
    },
    {
      "cell_type": "code",
      "source": [
        "model = Sequential([\n",
        "    Conv2D(16, (3, 3), activation='relu', input_shape=(64, 64, 1)),\n",
        "    MaxPooling2D(2, 2),\n",
        "    BatchNormalization(),\n",
        "    # Dropout(0.25),\n",
        "\n",
        "    Conv2D(32, (3, 3), activation='relu'),\n",
        "    MaxPooling2D(2, 2),\n",
        "    BatchNormalization(),\n",
        "    # Dropout(0.25),\n",
        "\n",
        "    Flatten(),\n",
        "    Dense(64, activation='relu', kernel_regularizer=l2(0.001)) ,\n",
        "    # Dropout(0.5),\n",
        "    Dense(1)  # Output layer for regression\n",
        "])\n",
        "\n",
        "model.compile(optimizer='adam', loss='mean_squared_error')"
      ],
      "metadata": {
        "id": "AW-Q0IVAVbSD"
      },
      "execution_count": 35,
      "outputs": []
    },
    {
      "cell_type": "markdown",
      "source": [
        "**Training the model** on the dataset\n",
        "\n",
        "Training is the proscess of finding the best weights and biases for all the neurons such that the neural network can correctly map inputs to the desired output.\n",
        "\n",
        "\n",
        "* model.fit() means training the model (CNN with muliple layers that we defined above) with the data set\n",
        "* X_train, Y_train are the splits of the dataset we created above with X as our images and Y having the number of dots\n",
        "* epochs is the number of times the training dataset wul be passed forward and backward through the neural network.\n",
        "* after each epoch of training, the validation data is used to monitor the model's performance and check for overfitting\n",
        "* **Overfitting** occurs when the model performs well on training data but not unseen data, we need to avoid for that to happen.\n",
        "\n",
        "\n",
        "During training the main thing that happens is that the data is processed in small batches during the epochs and the network calculates the loss between the actual and predicted values and then **updates the weights in a way that would minimize the loss**. This optimization in our case is done using the Adam optimizer.\n",
        "\n",
        "**History can be used to plot the training and validation** loss over epochs to diagnose issues like overfitting or underfitting.\n",
        "\n",
        "Result of traning is that he model has learnt to estimate the number of dots. Accuracy and reliability depepnd o complexity of the model, quality and quantity of the data, and the training duration."
      ],
      "metadata": {
        "id": "g4m4up7592_A"
      }
    },
    {
      "cell_type": "code",
      "source": [
        "early_stopping = EarlyStopping(monitor='val_loss', patience=5)\n",
        "history = model.fit(X_train, Y_train, epochs=50, validation_data=(X_val, Y_val))\n",
        "# callbacks=[early_stopping]"
      ],
      "metadata": {
        "colab": {
          "base_uri": "https://localhost:8080/"
        },
        "id": "O1K5tMWA-GUf",
        "outputId": "0dcddb75-336f-439f-89d1-48cb79b7c7b9"
      },
      "execution_count": 48,
      "outputs": [
        {
          "output_type": "stream",
          "name": "stdout",
          "text": [
            "Epoch 1/50\n",
            "25/25 [==============================] - 2s 95ms/step - loss: 66.2340 - val_loss: 133.4260\n",
            "Epoch 2/50\n",
            "25/25 [==============================] - 2s 87ms/step - loss: 74.6685 - val_loss: 319.5274\n",
            "Epoch 3/50\n",
            "25/25 [==============================] - 2s 87ms/step - loss: 49.2124 - val_loss: 40.1524\n",
            "Epoch 4/50\n",
            "25/25 [==============================] - 3s 134ms/step - loss: 62.9802 - val_loss: 64.3012\n",
            "Epoch 5/50\n",
            "25/25 [==============================] - 2s 92ms/step - loss: 91.6475 - val_loss: 69.7273\n",
            "Epoch 6/50\n",
            "25/25 [==============================] - 2s 95ms/step - loss: 78.0510 - val_loss: 653.6279\n",
            "Epoch 7/50\n",
            "25/25 [==============================] - 2s 94ms/step - loss: 41.4013 - val_loss: 301.9490\n",
            "Epoch 8/50\n",
            "25/25 [==============================] - 2s 91ms/step - loss: 67.0339 - val_loss: 896.4917\n",
            "Epoch 9/50\n",
            "25/25 [==============================] - 3s 129ms/step - loss: 54.9290 - val_loss: 530.2183\n",
            "Epoch 10/50\n",
            "25/25 [==============================] - 2s 86ms/step - loss: 75.2124 - val_loss: 376.9815\n",
            "Epoch 11/50\n",
            "25/25 [==============================] - 2s 89ms/step - loss: 74.0352 - val_loss: 68.4605\n",
            "Epoch 12/50\n",
            "25/25 [==============================] - 2s 88ms/step - loss: 87.4520 - val_loss: 1630.3383\n",
            "Epoch 13/50\n",
            "25/25 [==============================] - 2s 98ms/step - loss: 93.9797 - val_loss: 459.6156\n",
            "Epoch 14/50\n",
            "25/25 [==============================] - 3s 138ms/step - loss: 62.9083 - val_loss: 762.5871\n",
            "Epoch 15/50\n",
            "25/25 [==============================] - 2s 95ms/step - loss: 72.9700 - val_loss: 487.0941\n",
            "Epoch 16/50\n",
            "25/25 [==============================] - 2s 93ms/step - loss: 62.4502 - val_loss: 182.5649\n",
            "Epoch 17/50\n",
            "25/25 [==============================] - 3s 103ms/step - loss: 71.2600 - val_loss: 1231.6758\n",
            "Epoch 18/50\n",
            "25/25 [==============================] - 3s 123ms/step - loss: 98.4769 - val_loss: 170.6115\n",
            "Epoch 19/50\n",
            "25/25 [==============================] - 3s 132ms/step - loss: 84.9665 - val_loss: 49.1806\n",
            "Epoch 20/50\n",
            "25/25 [==============================] - 2s 98ms/step - loss: 61.9770 - val_loss: 2444.7148\n",
            "Epoch 21/50\n",
            "25/25 [==============================] - 2s 95ms/step - loss: 47.9177 - val_loss: 319.0555\n",
            "Epoch 22/50\n",
            "25/25 [==============================] - 2s 96ms/step - loss: 78.3801 - val_loss: 4040.3391\n",
            "Epoch 23/50\n",
            "25/25 [==============================] - 3s 120ms/step - loss: 94.3100 - val_loss: 630.5585\n",
            "Epoch 24/50\n",
            "25/25 [==============================] - 3s 110ms/step - loss: 54.6355 - val_loss: 266.0540\n",
            "Epoch 25/50\n",
            "25/25 [==============================] - 2s 95ms/step - loss: 54.2542 - val_loss: 90.4776\n",
            "Epoch 26/50\n",
            "25/25 [==============================] - 2s 96ms/step - loss: 53.3412 - val_loss: 104.9486\n",
            "Epoch 27/50\n",
            "25/25 [==============================] - 2s 95ms/step - loss: 63.8460 - val_loss: 1752.3297\n",
            "Epoch 28/50\n",
            "25/25 [==============================] - 3s 123ms/step - loss: 83.6935 - val_loss: 690.6614\n",
            "Epoch 29/50\n",
            "25/25 [==============================] - 3s 110ms/step - loss: 62.2087 - val_loss: 96.3911\n",
            "Epoch 30/50\n",
            "25/25 [==============================] - 3s 106ms/step - loss: 80.6426 - val_loss: 957.4465\n",
            "Epoch 31/50\n",
            "25/25 [==============================] - 3s 107ms/step - loss: 48.4418 - val_loss: 56.9900\n",
            "Epoch 32/50\n",
            "25/25 [==============================] - 3s 107ms/step - loss: 66.0439 - val_loss: 255.9440\n",
            "Epoch 33/50\n",
            "25/25 [==============================] - 4s 145ms/step - loss: 70.5844 - val_loss: 138.5934\n",
            "Epoch 34/50\n",
            "25/25 [==============================] - 3s 102ms/step - loss: 49.9742 - val_loss: 108.3182\n",
            "Epoch 35/50\n",
            "25/25 [==============================] - 4s 166ms/step - loss: 95.9959 - val_loss: 1314.0054\n",
            "Epoch 36/50\n",
            "25/25 [==============================] - 3s 103ms/step - loss: 96.7901 - val_loss: 3353.0959\n",
            "Epoch 37/50\n",
            "25/25 [==============================] - 4s 145ms/step - loss: 73.4338 - val_loss: 2454.5010\n",
            "Epoch 38/50\n",
            "25/25 [==============================] - 3s 102ms/step - loss: 65.9605 - val_loss: 9885.9043\n",
            "Epoch 39/50\n",
            "25/25 [==============================] - 2s 99ms/step - loss: 65.0824 - val_loss: 153.3445\n",
            "Epoch 40/50\n",
            "25/25 [==============================] - 2s 98ms/step - loss: 62.7872 - val_loss: 520.0328\n",
            "Epoch 41/50\n",
            "25/25 [==============================] - 3s 117ms/step - loss: 84.1451 - val_loss: 959.7212\n",
            "Epoch 42/50\n",
            "25/25 [==============================] - 3s 122ms/step - loss: 43.8297 - val_loss: 274.4144\n",
            "Epoch 43/50\n",
            "25/25 [==============================] - 2s 94ms/step - loss: 42.9424 - val_loss: 543.5845\n",
            "Epoch 44/50\n",
            "25/25 [==============================] - 3s 138ms/step - loss: 68.2773 - val_loss: 2566.8801\n",
            "Epoch 45/50\n",
            "25/25 [==============================] - 3s 131ms/step - loss: 61.0062 - val_loss: 958.8855\n",
            "Epoch 46/50\n",
            "25/25 [==============================] - 3s 134ms/step - loss: 62.4907 - val_loss: 518.6741\n",
            "Epoch 47/50\n",
            "25/25 [==============================] - 3s 105ms/step - loss: 57.0111 - val_loss: 463.4627\n",
            "Epoch 48/50\n",
            "25/25 [==============================] - 2s 97ms/step - loss: 54.1482 - val_loss: 472.4524\n",
            "Epoch 49/50\n",
            "25/25 [==============================] - 2s 96ms/step - loss: 52.2716 - val_loss: 752.3702\n",
            "Epoch 50/50\n",
            "25/25 [==============================] - 3s 116ms/step - loss: 29.8572 - val_loss: 95.5357\n"
          ]
        }
      ]
    },
    {
      "cell_type": "code",
      "source": [
        "plt.plot(history.history['loss'], label='Training Loss')\n",
        "plt.plot(history.history['val_loss'], label='Validation Loss')\n",
        "plt.title('Model Loss During Training')\n",
        "plt.ylabel('Loss')\n",
        "plt.xlabel('Epoch')\n",
        "plt.legend()\n",
        "plt.show()"
      ],
      "metadata": {
        "colab": {
          "base_uri": "https://localhost:8080/",
          "height": 472
        },
        "id": "xMvC_EWFEc3B",
        "outputId": "068001c0-3053-415a-8b95-cb4644e1555f"
      },
      "execution_count": 49,
      "outputs": [
        {
          "output_type": "display_data",
          "data": {
            "text/plain": [
              "<Figure size 640x480 with 1 Axes>"
            ],
            "image/png": "[encoded data removed]"
          },
          "metadata": {}
        }
      ]
    },
    {
      "cell_type": "code",
      "source": [
        "final_loss = model.evaluate(X_val, Y_val)\n",
        "print(f\"Final Loss on Validation Set: {final_loss}\")\n",
        "print(\"model is off by \", final_loss ** 0.5, \"dots\")"
      ],
      "metadata": {
        "colab": {
          "base_uri": "https://localhost:8080/"
        },
        "id": "LkDAngWnE055",
        "outputId": "39a90140-782a-4e87-e36d-e850b4464b0d"
      },
      "execution_count": 50,
      "outputs": [
        {
          "output_type": "stream",
          "name": "stdout",
          "text": [
            "7/7 [==============================] - 0s 23ms/step - loss: 95.5357\n",
            "Final Loss on Validation Set: 95.53573608398438\n",
            "model is off by  9.774238388947978 dots\n"
          ]
        }
      ]
    }
  ]
}